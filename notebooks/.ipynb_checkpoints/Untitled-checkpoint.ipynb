{
 "cells": [
  {
   "cell_type": "code",
   "execution_count": 1,
   "id": "d8ce9344",
   "metadata": {},
   "outputs": [
    {
     "data": {
      "text/plain": [
       "['Mr.',\n",
       " \"Ol' \",\n",
       " 'Sir',\n",
       " \"Lil' Miss \",\n",
       " 'Madam ',\n",
       " 'Mrs. ',\n",
       " 'Prince ',\n",
       " 'Lady ',\n",
       " 'Princess ',\n",
       " 'King ',\n",
       " 'Queen ',\n",
       " 'Lord ',\n",
       " 'Dr. ',\n",
       " 'Chairman ',\n",
       " 'Professor ',\n",
       " 'Chairwoman ']"
      ]
     },
     "execution_count": 1,
     "metadata": {},
     "output_type": "execute_result"
    }
   ],
   "source": [
    "import puurrtybot.blockchain.meta as meta\n",
    "meta.PREFIXES"
   ]
  },
  {
   "cell_type": "code",
   "execution_count": 4,
   "id": "24cea462",
   "metadata": {},
   "outputs": [],
   "source": [
    "import puurrtybot.blockchain as meta"
   ]
  },
  {
   "cell_type": "code",
   "execution_count": 50,
   "id": "e363ebb5",
   "metadata": {},
   "outputs": [],
   "source": [
    "    prefixes = ['Mr.',\n",
    "            \"\"\"Ol' \"\"\",\n",
    "            'Sir',\n",
    "            \"\"\"Lil' Miss \"\"\",\n",
    "            'Madam ',\n",
    "            'Mrs. ',\n",
    "            'Prince ',\n",
    "            'Lady ',\n",
    "            'Princess ',\n",
    "            'King ',\n",
    "            'Queen ',\n",
    "            'Lord ',\n",
    "            'Dr. ',\n",
    "            'Chairman ',\n",
    "            'Professor ',\n",
    "            'Chairwoman ']\n",
    "\n",
    "    suffixes = [' Esq.',\n",
    "            ' Ph.D.',\n",
    "            ' the Third',\n",
    "            ' the Second',\n",
    "            ' the First',\n",
    "            ' the Fourth',\n",
    "            ' v2',\n",
    "            ' v3',\n",
    "            ' mk IV']"
   ]
  },
  {
   "cell_type": "code",
   "execution_count": 48,
   "id": "498b7000",
   "metadata": {},
   "outputs": [
    {
     "data": {
      "text/plain": [
       "False"
      ]
     },
     "execution_count": 48,
     "metadata": {},
     "output_type": "execute_result"
    }
   ],
   "source": [
    "def name_has_prefix(name):\n",
    "    for prefix in prefixes:\n",
    "        if prefix in name:\n",
    "            return 1\n",
    "    return 0\n",
    "\n",
    "name_has_prefix(asset['onchain_metadata']['name'])"
   ]
  },
  {
   "cell_type": "code",
   "execution_count": 24,
   "id": "892236e5",
   "metadata": {},
   "outputs": [],
   "source": [
    "def get_addr_by_asset(asset):\n",
    "    return  requests.get(f'https://cardano-mainnet.blockfrost.io/api/v0/assets/{asset}/addresses', headers=headers).json()[0]['address']\n"
   ]
  },
  {
   "cell_type": "code",
   "execution_count": 44,
   "id": "93f51c87",
   "metadata": {},
   "outputs": [
    {
     "data": {
      "text/plain": [
       "'Wanda Boutlier'"
      ]
     },
     "execution_count": 44,
     "metadata": {},
     "output_type": "execute_result"
    }
   ],
   "source": [
    "asset['onchain_metadata']['name']"
   ]
  },
  {
   "cell_type": "code",
   "execution_count": 52,
   "id": "230cee52",
   "metadata": {},
   "outputs": [
    {
     "name": "stderr",
     "output_type": "stream",
     "text": [
      "100%|████████████████████████████████████| 7000/7000 [00:00<00:00, 15453.28it/s]\n"
     ]
    }
   ],
   "source": [
    "import os\n",
    "\n",
    "def name_has_prefix(name):\n",
    "    for prefix in prefixes:\n",
    "        if prefix in name:\n",
    "            return prefix\n",
    "    return None\n",
    "\n",
    "\n",
    "def name_has_suffix(name):\n",
    "    for suffix in suffixes:\n",
    "        if suffix in name:\n",
    "            return suffix\n",
    "    return None\n",
    "\n",
    "def name_has_lastname(name):\n",
    "    return 0\n",
    "\n",
    "def name_has_firstname(name):\n",
    "    return 0\n",
    "\n",
    "\n",
    "\n",
    "asset_dir = f\"\"\"{puurrtybot.PATH}/puurrtybot/databases/assets/\"\"\"\n",
    "for asset in tqdm.tqdm(os.listdir(asset_dir)):\n",
    "    with open(f\"\"\"{asset_dir}{asset}\"\"\", 'r') as openfile:\n",
    "        asset = json.load(openfile)\n",
    "        asset['onchain_metadata']['prefix'] = name_has_prefix(asset['onchain_metadata']['name'])\n",
    "        asset['onchain_metadata']['suffix'] = name_has_suffix(asset['onchain_metadata']['name'])\n",
    "        "
   ]
  },
  {
   "cell_type": "code",
   "execution_count": 3,
   "id": "c8db436c",
   "metadata": {},
   "outputs": [
    {
     "name": "stderr",
     "output_type": "stream",
     "text": [
      "100%|███████████████████████████████████████| 7000/7000 [13:44<00:00,  8.49it/s]\n"
     ]
    },
    {
     "ename": "NameError",
     "evalue": "name 'pd' is not defined",
     "output_type": "error",
     "traceback": [
      "\u001b[0;31m---------------------------------------------------------------------------\u001b[0m",
      "\u001b[0;31mNameError\u001b[0m                                 Traceback (most recent call last)",
      "Input \u001b[0;32mIn [3]\u001b[0m, in \u001b[0;36m<cell line: 26>\u001b[0;34m()\u001b[0m\n\u001b[1;32m     23\u001b[0m \u001b[38;5;28;01mfor\u001b[39;00m asset \u001b[38;5;129;01min\u001b[39;00m tqdm\u001b[38;5;241m.\u001b[39mtqdm(blockfrost\u001b[38;5;241m.\u001b[39mget_assets_by_policy(puurrtybot\u001b[38;5;241m.\u001b[39mPOLICY)):\n\u001b[1;32m     24\u001b[0m     assets\u001b[38;5;241m.\u001b[39mappend(blockfrost\u001b[38;5;241m.\u001b[39mget_meta_by_asset(asset))\n\u001b[0;32m---> 26\u001b[0m assets \u001b[38;5;241m=\u001b[39m \u001b[43mpd\u001b[49m\u001b[38;5;241m.\u001b[39mDataFrame(assets)\n",
      "\u001b[0;31mNameError\u001b[0m: name 'pd' is not defined"
     ]
    }
   ],
   "source": [
    "import puurrtybot, requests, json, tqdm\n",
    "import puurrtybot.blockchain.blockchain_queries as blockfrost\n",
    "headers = {'project_id': puurrtybot.BLOCKFROST_TOKEN}\n",
    "\n",
    "def get_assets_by_policy(policy):\n",
    "    page=1\n",
    "    assets=[]\n",
    "    while True:\n",
    "        r = requests.get(f'https://cardano-mainnet.blockfrost.io/api/v0/assets/policy/{policy}?page={page}', headers=headers)\n",
    "        if len(r.json())==0:\n",
    "            break;\n",
    "        else:\n",
    "            assets+=r.json()\n",
    "            page+=1\n",
    "\n",
    "    return [asset['asset'] for asset in assets if asset['quantity']=='1']\n",
    "\n",
    "def get_meta_by_asset(asset):\n",
    "    return requests.get(f'https://cardano-mainnet.blockfrost.io/api/v0/assets/{asset}', headers=headers).json()\n",
    "\n",
    "assets = []\n",
    "for asset in tqdm.tqdm(blockfrost.get_assets_by_policy(puurrtybot.POLICY)):\n",
    "    assets.append(blockfrost.get_meta_by_asset(asset))\n",
    "\n",
    "assets = pd.DataFrame(assets)"
   ]
  },
  {
   "cell_type": "code",
   "execution_count": 10,
   "id": "415a844e",
   "metadata": {},
   "outputs": [],
   "source": [
    "a = [asset for asset in assets if 'f96584c4fcd13cd1702c9be683400072dd1aac853431c99037a3ab1e50757272426f74'==asset['asset']][0]"
   ]
  },
  {
   "cell_type": "code",
   "execution_count": 13,
   "id": "215b2eeb",
   "metadata": {},
   "outputs": [
    {
     "data": {
      "text/plain": [
       "{'asset': 'f96584c4fcd13cd1702c9be683400072dd1aac853431c99037a3ab1e50757272426f74',\n",
       " 'policy_id': 'f96584c4fcd13cd1702c9be683400072dd1aac853431c99037a3ab1e',\n",
       " 'asset_name': '50757272426f74',\n",
       " 'fingerprint': 'asset12xf688slvfmtspjgnsq33wjjfp67egfy7yhwjw',\n",
       " 'quantity': '1',\n",
       " 'initial_mint_tx_hash': 'c3e4b98a8decfa2e6c7a56fec5d1f201ad59e80462c590e5cc81ebce4a5d6c6c',\n",
       " 'mint_or_burn_count': 3,\n",
       " 'onchain_metadata': {'name': 'PurrBot',\n",
       "  'image': 'ipfs://QmXdUjTyPEvPAnRk5Nc1TCje7JhLvrx1F45U3oS2YLWQ74',\n",
       "  'unique': 'Yes',\n",
       "  'mediaType': 'image/png',\n",
       "  'collection': 'Puurrty Cats Society'},\n",
       " 'metadata': None}"
      ]
     },
     "execution_count": 13,
     "metadata": {},
     "output_type": "execute_result"
    }
   ],
   "source": [
    "for asset in tqdm.tqdm(blockfrost.get_assets_by_policy(puurrtybot.POLICY)):\n",
    "    asset = blockfrost.get_meta_by_asset(asset)\n",
    "    with open(f\"\"\"{puurrtybot.PATH}/puurrtybot/databases/assets/{asset['asset']}.json\"\"\", 'w') as f:\n",
    "        json.dump(asset, f)"
   ]
  },
  {
   "cell_type": "code",
   "execution_count": 15,
   "id": "531cac33",
   "metadata": {},
   "outputs": [
    {
     "data": {
      "text/plain": [
       "'f96584c4fcd13cd1702c9be683400072dd1aac853431c99037a3ab1e50757272426f74.json'"
      ]
     },
     "execution_count": 15,
     "metadata": {},
     "output_type": "execute_result"
    }
   ],
   "source": [
    "f\"\"\"{a['asset']}.json\"\"\""
   ]
  },
  {
   "cell_type": "code",
   "execution_count": 16,
   "id": "7d4835f4",
   "metadata": {},
   "outputs": [],
   "source": [
    "import json\n",
    "with open(f\"\"\"{a['asset']}.json\"\"\", 'w') as f:\n",
    "    json.dump(a, f)"
   ]
  }
 ],
 "metadata": {
  "kernelspec": {
   "display_name": "Python [conda env:puurrtybot] *",
   "language": "python",
   "name": "conda-env-puurrtybot-py"
  },
  "language_info": {
   "codemirror_mode": {
    "name": "ipython",
    "version": 3
   },
   "file_extension": ".py",
   "mimetype": "text/x-python",
   "name": "python",
   "nbconvert_exporter": "python",
   "pygments_lexer": "ipython3",
   "version": "3.10.4"
  }
 },
 "nbformat": 4,
 "nbformat_minor": 5
}
