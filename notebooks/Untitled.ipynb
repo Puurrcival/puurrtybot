{
 "cells": [
  {
   "cell_type": "code",
   "execution_count": 79,
   "id": "02873d9d",
   "metadata": {},
   "outputs": [],
   "source": [
    "def verify_wallet_stats(userid, address, quantity):\n",
    "    with open(f\"\"\"{puurrtybot.PATH}/puurrtybot/databases/verify_wallet/{address}.json\"\"\", \"w\") as f:\n",
    "            json.dump({\"userid\":f\"{userid}\",\"quantity\":f\"{quantity}\",\"verified\":\"False\"}, f)\n",
    "\n"
   ]
  },
  {
   "cell_type": "code",
   "execution_count": 43,
   "id": "a9cf6444",
   "metadata": {},
   "outputs": [
    {
     "data": {
      "text/plain": [
       "('1379280',\n",
       " {'userid': '642352900357750787',\n",
       "  'quantity': '1.37928',\n",
       "  'verified': 'False',\n",
       "  'time': '11111111'})"
      ]
     },
     "execution_count": 43,
     "metadata": {},
     "output_type": "execute_result"
    }
   ],
   "source": [
    "quantity = str(int(float(j[\"quantity\"])*10**6))\n",
    "quantity,j"
   ]
  },
  {
   "cell_type": "code",
   "execution_count": null,
   "id": "1f14eeba",
   "metadata": {},
   "outputs": [],
   "source": [
    "def get_quantities_by_address(address: str, time_limit = 70*60):\n",
    "    quantities = []\n",
    "    for tx in get_tx_list_by_address(address):\n",
    "        if tx['block_time'] - int(datetime.datetime.now().timestamp()) + time_limit > 0:\n",
    "            quantities += get_quantities_by_tx_hash(tx['tx_hash'], address)\n",
    "    return quantities"
   ]
  },
  {
   "cell_type": "code",
   "execution_count": 44,
   "id": "9fee6b6d",
   "metadata": {},
   "outputs": [
    {
     "data": {
      "text/plain": [
       "True"
      ]
     },
     "execution_count": 44,
     "metadata": {},
     "output_type": "execute_result"
    }
   ],
   "source": [
    "import puurrtybot, json\n",
    "import puurrtybot.blockchain.blockchain_queries as bq\n",
    "\n",
    "address = \"addr1qyqggc5f3dgyx6ulwl4uqf8gucxvdahgpatjx27hutsusg79nee6glazchetycv3uewpraf7tfe60t3kud5l0cdkl5wqyj5xhy\"\n",
    "\n",
    "def check_wallet_for_tx(address, quantity):\n",
    "    try:\n",
    "        with open(f\"\"\"{puurrtybot.PATH}/puurrtybot/databases/verify_wallet/{address}.json\"\"\", 'r') as f:\n",
    "            j = json.load(f)\n",
    "    except FileNotFoundError:\n",
    "        print('x')\n",
    "\n",
    "    counter=0 \n",
    "    for tx in bq.get_tx_list_by_address(address):\n",
    "        counter+=1\n",
    "        if counter>100:\n",
    "            break;\n",
    "        if quantity in bq.get_quantities_by_tx_hash(tx_hash=tx['tx_hash'], address=address):\n",
    "            return True\n",
    "    return False\n",
    "\n",
    "check_wallet_for_tx(address, quantity)"
   ]
  },
  {
   "cell_type": "code",
   "execution_count": 65,
   "id": "c1eb032a",
   "metadata": {},
   "outputs": [
    {
     "data": {
      "text/plain": [
       "{'userid': '642352900357750787',\n",
       " 'verified_wallets': 'addr1qyqggc5f3dgyx6ulwl4uqf8gucxvdahgpatjx27hutsusg79nee6glazchetycv3uewpraf7tfe60t3kud5l0cdkl5wqyj5xhy'}"
      ]
     },
     "execution_count": 65,
     "metadata": {},
     "output_type": "execute_result"
    }
   ],
   "source": [
    "userid = 642352900357750787\n",
    "with open(f\"\"\"{puurrtybot.PATH}/puurrtybot/databases/users/{userid}.json\"\"\", 'r') as f:\n",
    "    j = json.load(f)\n",
    "j"
   ]
  },
  {
   "cell_type": "code",
   "execution_count": 78,
   "id": "a43e1cb5",
   "metadata": {},
   "outputs": [
    {
     "data": {
      "text/plain": [
       "True"
      ]
     },
     "execution_count": 78,
     "metadata": {},
     "output_type": "execute_result"
    }
   ],
   "source": [
    "def wallet_verify_status(userid, address):\n",
    "    with open(f\"\"\"{puurrtybot.PATH}/puurrtybot/databases/users/{userid}.json\"\"\", 'r') as f:\n",
    "        j = json.load(f)\n",
    "    if address in j['verified_wallets'].split(';'):\n",
    "        return True\n",
    "    else:\n",
    "        return False\n",
    "    \n",
    "wallet_verify_status(userid, address)"
   ]
  },
  {
   "cell_type": "code",
   "execution_count": 71,
   "id": "89e25506",
   "metadata": {},
   "outputs": [],
   "source": [
    "userid = 642352900357750787\n",
    "def add_verified_wallet(userid):\n",
    "    with open(f\"\"\"{puurrtybot.PATH}/puurrtybot/databases/users/{userid}.json\"\"\", 'r') as f:\n",
    "        j = json.load(f)\n",
    "\n",
    "    j['verified_wallets']=f\"\"\"{j['verified_wallets']};{address}\"\"\".strip(';')\n",
    "    j['verified_wallets']=';'.join(set(j['verified_wallets'].split(';')))\n",
    "    with open(f\"\"\"{puurrtybot.PATH}/puurrtybot/databases/users/{userid}.json\"\"\", \"w\") as f:\n",
    "        json.dump(j, f)\n",
    "        \n",
    "add_verified_wallet(userid)"
   ]
  },
  {
   "cell_type": "code",
   "execution_count": 57,
   "id": "a410fc30",
   "metadata": {},
   "outputs": [],
   "source": [
    "with open(f\"\"\"{puurrtybot.PATH}/puurrtybot/databases/users/{userid}.json\"\"\", \"w\") as f:\n",
    "        json.dump(j, f)"
   ]
  },
  {
   "cell_type": "code",
   "execution_count": 31,
   "id": "74bb1c95",
   "metadata": {},
   "outputs": [
    {
     "data": {
      "text/plain": [
       "'1379280'"
      ]
     },
     "execution_count": 31,
     "metadata": {},
     "output_type": "execute_result"
    }
   ],
   "source": [
    "q = str(int(float(j[\"quantity\"])*10**6))\n",
    "q"
   ]
  },
  {
   "cell_type": "code",
   "execution_count": 32,
   "id": "e26e14ce",
   "metadata": {},
   "outputs": [
    {
     "name": "stdout",
     "output_type": "stream",
     "text": [
      "check\n"
     ]
    }
   ],
   "source": [
    "import puurrtybot.blockchain.blockchain_queries as bq\n",
    "\n",
    "for tx in bq.get_tx_list_by_address(address):\n",
    "    if q in bq.get_quantities_by_tx_hash(tx_hash=tx['tx_hash'], address=address):\n",
    "        print('check')\n",
    "        break;"
   ]
  },
  {
   "cell_type": "code",
   "execution_count": 1,
   "id": "68ac522d",
   "metadata": {},
   "outputs": [
    {
     "data": {
      "text/plain": [
       "['Mr.',\n",
       " \"Ol' \",\n",
       " 'Sir',\n",
       " \"Lil' Miss \",\n",
       " 'Madam ',\n",
       " 'Mrs. ',\n",
       " 'Prince ',\n",
       " 'Lady ',\n",
       " 'Princess ',\n",
       " 'King ',\n",
       " 'Queen ',\n",
       " 'Lord ',\n",
       " 'Dr. ',\n",
       " 'Chairman ',\n",
       " 'Professor ',\n",
       " 'Chairwoman ']"
      ]
     },
     "execution_count": 1,
     "metadata": {},
     "output_type": "execute_result"
    }
   ],
   "source": [
    "import puurrtybot.blockchain.meta as meta\n",
    "meta.PREFIXES"
   ]
  },
  {
   "cell_type": "code",
   "execution_count": 4,
   "id": "b4ae0786",
   "metadata": {},
   "outputs": [],
   "source": [
    "import puurrtybot.blockchain as meta"
   ]
  },
  {
   "cell_type": "code",
   "execution_count": 50,
   "id": "30734375",
   "metadata": {},
   "outputs": [],
   "source": [
    "    prefixes = ['Mr.',\n",
    "            \"\"\"Ol' \"\"\",\n",
    "            'Sir',\n",
    "            \"\"\"Lil' Miss \"\"\",\n",
    "            'Madam ',\n",
    "            'Mrs. ',\n",
    "            'Prince ',\n",
    "            'Lady ',\n",
    "            'Princess ',\n",
    "            'King ',\n",
    "            'Queen ',\n",
    "            'Lord ',\n",
    "            'Dr. ',\n",
    "            'Chairman ',\n",
    "            'Professor ',\n",
    "            'Chairwoman ']\n",
    "\n",
    "    suffixes = [' Esq.',\n",
    "            ' Ph.D.',\n",
    "            ' the Third',\n",
    "            ' the Second',\n",
    "            ' the First',\n",
    "            ' the Fourth',\n",
    "            ' v2',\n",
    "            ' v3',\n",
    "            ' mk IV']"
   ]
  },
  {
   "cell_type": "code",
   "execution_count": 48,
   "id": "b17a0098",
   "metadata": {},
   "outputs": [
    {
     "data": {
      "text/plain": [
       "False"
      ]
     },
     "execution_count": 48,
     "metadata": {},
     "output_type": "execute_result"
    }
   ],
   "source": [
    "def name_has_prefix(name):\n",
    "    for prefix in prefixes:\n",
    "        if prefix in name:\n",
    "            return 1\n",
    "    return 0\n",
    "\n",
    "name_has_prefix(asset['onchain_metadata']['name'])"
   ]
  },
  {
   "cell_type": "code",
   "execution_count": 24,
   "id": "dea0f506",
   "metadata": {},
   "outputs": [],
   "source": [
    "def get_addr_by_asset(asset):\n",
    "    return  requests.get(f'https://cardano-mainnet.blockfrost.io/api/v0/assets/{asset}/addresses', headers=headers).json()[0]['address']\n"
   ]
  },
  {
   "cell_type": "code",
   "execution_count": 44,
   "id": "47302185",
   "metadata": {},
   "outputs": [
    {
     "data": {
      "text/plain": [
       "'Wanda Boutlier'"
      ]
     },
     "execution_count": 44,
     "metadata": {},
     "output_type": "execute_result"
    }
   ],
   "source": [
    "asset['onchain_metadata']['name']"
   ]
  },
  {
   "cell_type": "code",
   "execution_count": 52,
   "id": "296568aa",
   "metadata": {},
   "outputs": [
    {
     "name": "stderr",
     "output_type": "stream",
     "text": [
      "100%|████████████████████████████████████| 7000/7000 [00:00<00:00, 15453.28it/s]\n"
     ]
    }
   ],
   "source": [
    "import os\n",
    "\n",
    "def name_has_prefix(name):\n",
    "    for prefix in prefixes:\n",
    "        if prefix in name:\n",
    "            return prefix\n",
    "    return None\n",
    "\n",
    "\n",
    "def name_has_suffix(name):\n",
    "    for suffix in suffixes:\n",
    "        if suffix in name:\n",
    "            return suffix\n",
    "    return None\n",
    "\n",
    "def name_has_lastname(name):\n",
    "    return 0\n",
    "\n",
    "def name_has_firstname(name):\n",
    "    return 0\n",
    "\n",
    "\n",
    "\n",
    "asset_dir = f\"\"\"{puurrtybot.PATH}/puurrtybot/databases/assets/\"\"\"\n",
    "for asset in tqdm.tqdm(os.listdir(asset_dir)):\n",
    "    with open(f\"\"\"{asset_dir}{asset}\"\"\", 'r') as openfile:\n",
    "        asset = json.load(openfile)\n",
    "        asset['onchain_metadata']['prefix'] = name_has_prefix(asset['onchain_metadata']['name'])\n",
    "        asset['onchain_metadata']['suffix'] = name_has_suffix(asset['onchain_metadata']['name'])\n",
    "        "
   ]
  },
  {
   "cell_type": "code",
   "execution_count": 3,
   "id": "1e40f022",
   "metadata": {},
   "outputs": [
    {
     "name": "stderr",
     "output_type": "stream",
     "text": [
      "100%|███████████████████████████████████████| 7000/7000 [13:44<00:00,  8.49it/s]\n"
     ]
    },
    {
     "ename": "NameError",
     "evalue": "name 'pd' is not defined",
     "output_type": "error",
     "traceback": [
      "\u001b[0;31m---------------------------------------------------------------------------\u001b[0m",
      "\u001b[0;31mNameError\u001b[0m                                 Traceback (most recent call last)",
      "Input \u001b[0;32mIn [3]\u001b[0m, in \u001b[0;36m<cell line: 26>\u001b[0;34m()\u001b[0m\n\u001b[1;32m     23\u001b[0m \u001b[38;5;28;01mfor\u001b[39;00m asset \u001b[38;5;129;01min\u001b[39;00m tqdm\u001b[38;5;241m.\u001b[39mtqdm(blockfrost\u001b[38;5;241m.\u001b[39mget_assets_by_policy(puurrtybot\u001b[38;5;241m.\u001b[39mPOLICY)):\n\u001b[1;32m     24\u001b[0m     assets\u001b[38;5;241m.\u001b[39mappend(blockfrost\u001b[38;5;241m.\u001b[39mget_meta_by_asset(asset))\n\u001b[0;32m---> 26\u001b[0m assets \u001b[38;5;241m=\u001b[39m \u001b[43mpd\u001b[49m\u001b[38;5;241m.\u001b[39mDataFrame(assets)\n",
      "\u001b[0;31mNameError\u001b[0m: name 'pd' is not defined"
     ]
    }
   ],
   "source": [
    "import puurrtybot, requests, json, tqdm\n",
    "import puurrtybot.blockchain.blockchain_queries as blockfrost\n",
    "headers = {'project_id': puurrtybot.BLOCKFROST_TOKEN}\n",
    "\n",
    "def get_assets_by_policy(policy):\n",
    "    page=1\n",
    "    assets=[]\n",
    "    while True:\n",
    "        r = requests.get(f'https://cardano-mainnet.blockfrost.io/api/v0/assets/policy/{policy}?page={page}', headers=headers)\n",
    "        if len(r.json())==0:\n",
    "            break;\n",
    "        else:\n",
    "            assets+=r.json()\n",
    "            page+=1\n",
    "\n",
    "    return [asset['asset'] for asset in assets if asset['quantity']=='1']\n",
    "\n",
    "def get_meta_by_asset(asset):\n",
    "    return requests.get(f'https://cardano-mainnet.blockfrost.io/api/v0/assets/{asset}', headers=headers).json()\n",
    "\n",
    "assets = []\n",
    "for asset in tqdm.tqdm(blockfrost.get_assets_by_policy(puurrtybot.POLICY)):\n",
    "    assets.append(blockfrost.get_meta_by_asset(asset))\n",
    "\n",
    "assets = pd.DataFrame(assets)"
   ]
  },
  {
   "cell_type": "code",
   "execution_count": 1,
   "id": "1bfded6a",
   "metadata": {},
   "outputs": [
    {
     "data": {
      "text/plain": [
       "'2.771528'"
      ]
     },
     "execution_count": 1,
     "metadata": {},
     "output_type": "execute_result"
    }
   ],
   "source": [
    "import puurrtybot.functions as pf\n",
    "pf.get_random_quantity()"
   ]
  },
  {
   "cell_type": "code",
   "execution_count": 9,
   "id": "d8f164f2",
   "metadata": {},
   "outputs": [
    {
     "data": {
      "text/plain": [
       "{'tx_hash': '7a76b4938feec7b64781565a44c7a3190af4421d04ffab5c105fe8c4c19bc885',\n",
       " 'tx_index': 13,\n",
       " 'block_height': 7014507,\n",
       " 'block_time': 1647657846}"
      ]
     },
     "execution_count": 9,
     "metadata": {},
     "output_type": "execute_result"
    }
   ],
   "source": [
    "tx"
   ]
  },
  {
   "cell_type": "code",
   "execution_count": 8,
   "id": "7222c7dd",
   "metadata": {},
   "outputs": [
    {
     "name": "stdout",
     "output_type": "stream",
     "text": [
      "883d35e57d023e09523f129af4abb00fd6db2b43629f9a1fe695859a07d97e13 [0]\n",
      "bfa14c067e71565a704fd6b3f007cf57df333af85914454800a69ce05e081510 ['5000000', '1379280', '16447475']\n",
      "1ecef7cda549513e589effd370072485dcbefcde5f818cb984b5ce07e7d45242 [0]\n",
      "9c82987d4579be5da3bdcecccb09d1b58a2ae86925844385fdc2bb04970a6c01 [0]\n",
      "033bfbcc62e557a5970f36f36e1c13e21bb4eed22eca8b677c394fb0618ffc1c [0]\n",
      "6ef24315ca925bcb5d1c891ebe08b7768ff952f05cd7fa81b0ec5ef2a995f9b5 [0]\n",
      "4cc2a9ae2c0323973902b68cf88941714fa3ee989ec9a9b217a35cdcda1344d6 [0]\n",
      "a80c1bb707f20ee261daba783e428f322c504e1d5ba09cb9f5c2f727385b1457 [0]\n",
      "328079ed3a361516e45e963f93ce29af61585e2b8a19ff30f3cbe52ed549b6cd [0]\n",
      "f7a386575af30c3120b5f93a4e91cf0d10ab104c3749e9054bff6532fa6fd3d5 [0]\n",
      "1474fe4bc92c38e89e71e80689ae709bef5be4ba8c8c8c0d3237b19c147ee594 [0]\n"
     ]
    },
    {
     "ename": "KeyboardInterrupt",
     "evalue": "",
     "output_type": "error",
     "traceback": [
      "\u001b[0;31m---------------------------------------------------------------------------\u001b[0m",
      "\u001b[0;31mKeyboardInterrupt\u001b[0m                         Traceback (most recent call last)",
      "Input \u001b[0;32mIn [8]\u001b[0m, in \u001b[0;36m<cell line: 4>\u001b[0;34m()\u001b[0m\n\u001b[1;32m      2\u001b[0m address \u001b[38;5;241m=\u001b[39m \u001b[38;5;124m\"\u001b[39m\u001b[38;5;124maddr1qyqggc5f3dgyx6ulwl4uqf8gucxvdahgpatjx27hutsusg79nee6glazchetycv3uewpraf7tfe60t3kud5l0cdkl5wqyj5xhy\u001b[39m\u001b[38;5;124m\"\u001b[39m\n\u001b[1;32m      4\u001b[0m \u001b[38;5;28;01mfor\u001b[39;00m tx \u001b[38;5;129;01min\u001b[39;00m bq\u001b[38;5;241m.\u001b[39mget_tx_list_by_address(address):\n\u001b[0;32m----> 5\u001b[0m     \u001b[38;5;28mprint\u001b[39m(tx[\u001b[38;5;124m'\u001b[39m\u001b[38;5;124mtx_hash\u001b[39m\u001b[38;5;124m'\u001b[39m],\u001b[43mbq\u001b[49m\u001b[38;5;241;43m.\u001b[39;49m\u001b[43mget_quantities_by_tx_hash\u001b[49m\u001b[43m(\u001b[49m\u001b[43mtx_hash\u001b[49m\u001b[38;5;241;43m=\u001b[39;49m\u001b[43mtx\u001b[49m\u001b[43m[\u001b[49m\u001b[38;5;124;43m'\u001b[39;49m\u001b[38;5;124;43mtx_hash\u001b[39;49m\u001b[38;5;124;43m'\u001b[39;49m\u001b[43m]\u001b[49m\u001b[43m,\u001b[49m\u001b[43m \u001b[49m\u001b[43maddress\u001b[49m\u001b[38;5;241;43m=\u001b[39;49m\u001b[43maddress\u001b[49m\u001b[43m)\u001b[49m)\n",
      "File \u001b[0;32m~/Desktop/projects/puurrtybot/puurrtybot/blockchain/blockchain_queries.py:41\u001b[0m, in \u001b[0;36mget_quantities_by_tx_hash\u001b[0;34m(tx_hash, address)\u001b[0m\n\u001b[1;32m     39\u001b[0m \u001b[38;5;28;01mdef\u001b[39;00m \u001b[38;5;21mget_tx_list_by_address\u001b[39m(address: \u001b[38;5;28mstr\u001b[39m):\n\u001b[1;32m     40\u001b[0m     tx_list \u001b[38;5;241m=\u001b[39m []\n\u001b[0;32m---> 41\u001b[0m     page \u001b[38;5;241m=\u001b[39m \u001b[38;5;241m1\u001b[39m\n\u001b[1;32m     42\u001b[0m     \u001b[38;5;28;01mwhile\u001b[39;00m \u001b[38;5;28;01mTrue\u001b[39;00m:\n\u001b[1;32m     43\u001b[0m         r \u001b[38;5;241m=\u001b[39m requests\u001b[38;5;241m.\u001b[39mget(\u001b[38;5;124mf\u001b[39m\u001b[38;5;124m'\u001b[39m\u001b[38;5;124mhttps://cardano-mainnet.blockfrost.io/api/v0/addresses/\u001b[39m\u001b[38;5;132;01m{\u001b[39;00maddress\u001b[38;5;132;01m}\u001b[39;00m\u001b[38;5;124m/transactions?page=\u001b[39m\u001b[38;5;132;01m{\u001b[39;00mpage\u001b[38;5;132;01m}\u001b[39;00m\u001b[38;5;124m'\u001b[39m, headers\u001b[38;5;241m=\u001b[39mheaders)\u001b[38;5;241m.\u001b[39mjson()\n",
      "File \u001b[0;32m~/miniconda3/envs/puurrtybot/lib/python3.9/site-packages/requests/api.py:75\u001b[0m, in \u001b[0;36mget\u001b[0;34m(url, params, **kwargs)\u001b[0m\n\u001b[1;32m     64\u001b[0m \u001b[38;5;28;01mdef\u001b[39;00m \u001b[38;5;21mget\u001b[39m(url, params\u001b[38;5;241m=\u001b[39m\u001b[38;5;28;01mNone\u001b[39;00m, \u001b[38;5;241m*\u001b[39m\u001b[38;5;241m*\u001b[39mkwargs):\n\u001b[1;32m     65\u001b[0m     \u001b[38;5;124mr\u001b[39m\u001b[38;5;124;03m\"\"\"Sends a GET request.\u001b[39;00m\n\u001b[1;32m     66\u001b[0m \n\u001b[1;32m     67\u001b[0m \u001b[38;5;124;03m    :param url: URL for the new :class:`Request` object.\u001b[39;00m\n\u001b[0;32m   (...)\u001b[0m\n\u001b[1;32m     72\u001b[0m \u001b[38;5;124;03m    :rtype: requests.Response\u001b[39;00m\n\u001b[1;32m     73\u001b[0m \u001b[38;5;124;03m    \"\"\"\u001b[39;00m\n\u001b[0;32m---> 75\u001b[0m     \u001b[38;5;28;01mreturn\u001b[39;00m \u001b[43mrequest\u001b[49m\u001b[43m(\u001b[49m\u001b[38;5;124;43m'\u001b[39;49m\u001b[38;5;124;43mget\u001b[39;49m\u001b[38;5;124;43m'\u001b[39;49m\u001b[43m,\u001b[49m\u001b[43m \u001b[49m\u001b[43murl\u001b[49m\u001b[43m,\u001b[49m\u001b[43m \u001b[49m\u001b[43mparams\u001b[49m\u001b[38;5;241;43m=\u001b[39;49m\u001b[43mparams\u001b[49m\u001b[43m,\u001b[49m\u001b[43m \u001b[49m\u001b[38;5;241;43m*\u001b[39;49m\u001b[38;5;241;43m*\u001b[39;49m\u001b[43mkwargs\u001b[49m\u001b[43m)\u001b[49m\n",
      "File \u001b[0;32m~/miniconda3/envs/puurrtybot/lib/python3.9/site-packages/requests/api.py:61\u001b[0m, in \u001b[0;36mrequest\u001b[0;34m(method, url, **kwargs)\u001b[0m\n\u001b[1;32m     57\u001b[0m \u001b[38;5;66;03m# By using the 'with' statement we are sure the session is closed, thus we\u001b[39;00m\n\u001b[1;32m     58\u001b[0m \u001b[38;5;66;03m# avoid leaving sockets open which can trigger a ResourceWarning in some\u001b[39;00m\n\u001b[1;32m     59\u001b[0m \u001b[38;5;66;03m# cases, and look like a memory leak in others.\u001b[39;00m\n\u001b[1;32m     60\u001b[0m \u001b[38;5;28;01mwith\u001b[39;00m sessions\u001b[38;5;241m.\u001b[39mSession() \u001b[38;5;28;01mas\u001b[39;00m session:\n\u001b[0;32m---> 61\u001b[0m     \u001b[38;5;28;01mreturn\u001b[39;00m \u001b[43msession\u001b[49m\u001b[38;5;241;43m.\u001b[39;49m\u001b[43mrequest\u001b[49m\u001b[43m(\u001b[49m\u001b[43mmethod\u001b[49m\u001b[38;5;241;43m=\u001b[39;49m\u001b[43mmethod\u001b[49m\u001b[43m,\u001b[49m\u001b[43m \u001b[49m\u001b[43murl\u001b[49m\u001b[38;5;241;43m=\u001b[39;49m\u001b[43murl\u001b[49m\u001b[43m,\u001b[49m\u001b[43m \u001b[49m\u001b[38;5;241;43m*\u001b[39;49m\u001b[38;5;241;43m*\u001b[39;49m\u001b[43mkwargs\u001b[49m\u001b[43m)\u001b[49m\n",
      "File \u001b[0;32m~/miniconda3/envs/puurrtybot/lib/python3.9/site-packages/requests/sessions.py:529\u001b[0m, in \u001b[0;36mSession.request\u001b[0;34m(self, method, url, params, data, headers, cookies, files, auth, timeout, allow_redirects, proxies, hooks, stream, verify, cert, json)\u001b[0m\n\u001b[1;32m    524\u001b[0m send_kwargs \u001b[38;5;241m=\u001b[39m {\n\u001b[1;32m    525\u001b[0m     \u001b[38;5;124m'\u001b[39m\u001b[38;5;124mtimeout\u001b[39m\u001b[38;5;124m'\u001b[39m: timeout,\n\u001b[1;32m    526\u001b[0m     \u001b[38;5;124m'\u001b[39m\u001b[38;5;124mallow_redirects\u001b[39m\u001b[38;5;124m'\u001b[39m: allow_redirects,\n\u001b[1;32m    527\u001b[0m }\n\u001b[1;32m    528\u001b[0m send_kwargs\u001b[38;5;241m.\u001b[39mupdate(settings)\n\u001b[0;32m--> 529\u001b[0m resp \u001b[38;5;241m=\u001b[39m \u001b[38;5;28;43mself\u001b[39;49m\u001b[38;5;241;43m.\u001b[39;49m\u001b[43msend\u001b[49m\u001b[43m(\u001b[49m\u001b[43mprep\u001b[49m\u001b[43m,\u001b[49m\u001b[43m \u001b[49m\u001b[38;5;241;43m*\u001b[39;49m\u001b[38;5;241;43m*\u001b[39;49m\u001b[43msend_kwargs\u001b[49m\u001b[43m)\u001b[49m\n\u001b[1;32m    531\u001b[0m \u001b[38;5;28;01mreturn\u001b[39;00m resp\n",
      "File \u001b[0;32m~/miniconda3/envs/puurrtybot/lib/python3.9/site-packages/requests/sessions.py:645\u001b[0m, in \u001b[0;36mSession.send\u001b[0;34m(self, request, **kwargs)\u001b[0m\n\u001b[1;32m    642\u001b[0m start \u001b[38;5;241m=\u001b[39m preferred_clock()\n\u001b[1;32m    644\u001b[0m \u001b[38;5;66;03m# Send the request\u001b[39;00m\n\u001b[0;32m--> 645\u001b[0m r \u001b[38;5;241m=\u001b[39m \u001b[43madapter\u001b[49m\u001b[38;5;241;43m.\u001b[39;49m\u001b[43msend\u001b[49m\u001b[43m(\u001b[49m\u001b[43mrequest\u001b[49m\u001b[43m,\u001b[49m\u001b[43m \u001b[49m\u001b[38;5;241;43m*\u001b[39;49m\u001b[38;5;241;43m*\u001b[39;49m\u001b[43mkwargs\u001b[49m\u001b[43m)\u001b[49m\n\u001b[1;32m    647\u001b[0m \u001b[38;5;66;03m# Total elapsed time of the request (approximately)\u001b[39;00m\n\u001b[1;32m    648\u001b[0m elapsed \u001b[38;5;241m=\u001b[39m preferred_clock() \u001b[38;5;241m-\u001b[39m start\n",
      "File \u001b[0;32m~/miniconda3/envs/puurrtybot/lib/python3.9/site-packages/requests/adapters.py:440\u001b[0m, in \u001b[0;36mHTTPAdapter.send\u001b[0;34m(self, request, stream, timeout, verify, cert, proxies)\u001b[0m\n\u001b[1;32m    438\u001b[0m \u001b[38;5;28;01mtry\u001b[39;00m:\n\u001b[1;32m    439\u001b[0m     \u001b[38;5;28;01mif\u001b[39;00m \u001b[38;5;129;01mnot\u001b[39;00m chunked:\n\u001b[0;32m--> 440\u001b[0m         resp \u001b[38;5;241m=\u001b[39m \u001b[43mconn\u001b[49m\u001b[38;5;241;43m.\u001b[39;49m\u001b[43murlopen\u001b[49m\u001b[43m(\u001b[49m\n\u001b[1;32m    441\u001b[0m \u001b[43m            \u001b[49m\u001b[43mmethod\u001b[49m\u001b[38;5;241;43m=\u001b[39;49m\u001b[43mrequest\u001b[49m\u001b[38;5;241;43m.\u001b[39;49m\u001b[43mmethod\u001b[49m\u001b[43m,\u001b[49m\n\u001b[1;32m    442\u001b[0m \u001b[43m            \u001b[49m\u001b[43murl\u001b[49m\u001b[38;5;241;43m=\u001b[39;49m\u001b[43murl\u001b[49m\u001b[43m,\u001b[49m\n\u001b[1;32m    443\u001b[0m \u001b[43m            \u001b[49m\u001b[43mbody\u001b[49m\u001b[38;5;241;43m=\u001b[39;49m\u001b[43mrequest\u001b[49m\u001b[38;5;241;43m.\u001b[39;49m\u001b[43mbody\u001b[49m\u001b[43m,\u001b[49m\n\u001b[1;32m    444\u001b[0m \u001b[43m            \u001b[49m\u001b[43mheaders\u001b[49m\u001b[38;5;241;43m=\u001b[39;49m\u001b[43mrequest\u001b[49m\u001b[38;5;241;43m.\u001b[39;49m\u001b[43mheaders\u001b[49m\u001b[43m,\u001b[49m\n\u001b[1;32m    445\u001b[0m \u001b[43m            \u001b[49m\u001b[43mredirect\u001b[49m\u001b[38;5;241;43m=\u001b[39;49m\u001b[38;5;28;43;01mFalse\u001b[39;49;00m\u001b[43m,\u001b[49m\n\u001b[1;32m    446\u001b[0m \u001b[43m            \u001b[49m\u001b[43massert_same_host\u001b[49m\u001b[38;5;241;43m=\u001b[39;49m\u001b[38;5;28;43;01mFalse\u001b[39;49;00m\u001b[43m,\u001b[49m\n\u001b[1;32m    447\u001b[0m \u001b[43m            \u001b[49m\u001b[43mpreload_content\u001b[49m\u001b[38;5;241;43m=\u001b[39;49m\u001b[38;5;28;43;01mFalse\u001b[39;49;00m\u001b[43m,\u001b[49m\n\u001b[1;32m    448\u001b[0m \u001b[43m            \u001b[49m\u001b[43mdecode_content\u001b[49m\u001b[38;5;241;43m=\u001b[39;49m\u001b[38;5;28;43;01mFalse\u001b[39;49;00m\u001b[43m,\u001b[49m\n\u001b[1;32m    449\u001b[0m \u001b[43m            \u001b[49m\u001b[43mretries\u001b[49m\u001b[38;5;241;43m=\u001b[39;49m\u001b[38;5;28;43mself\u001b[39;49m\u001b[38;5;241;43m.\u001b[39;49m\u001b[43mmax_retries\u001b[49m\u001b[43m,\u001b[49m\n\u001b[1;32m    450\u001b[0m \u001b[43m            \u001b[49m\u001b[43mtimeout\u001b[49m\u001b[38;5;241;43m=\u001b[39;49m\u001b[43mtimeout\u001b[49m\n\u001b[1;32m    451\u001b[0m \u001b[43m        \u001b[49m\u001b[43m)\u001b[49m\n\u001b[1;32m    453\u001b[0m     \u001b[38;5;66;03m# Send the request.\u001b[39;00m\n\u001b[1;32m    454\u001b[0m     \u001b[38;5;28;01melse\u001b[39;00m:\n\u001b[1;32m    455\u001b[0m         \u001b[38;5;28;01mif\u001b[39;00m \u001b[38;5;28mhasattr\u001b[39m(conn, \u001b[38;5;124m'\u001b[39m\u001b[38;5;124mproxy_pool\u001b[39m\u001b[38;5;124m'\u001b[39m):\n",
      "File \u001b[0;32m~/miniconda3/envs/puurrtybot/lib/python3.9/site-packages/urllib3/connectionpool.py:703\u001b[0m, in \u001b[0;36mHTTPConnectionPool.urlopen\u001b[0;34m(self, method, url, body, headers, retries, redirect, assert_same_host, timeout, pool_timeout, release_conn, chunked, body_pos, **response_kw)\u001b[0m\n\u001b[1;32m    700\u001b[0m     \u001b[38;5;28mself\u001b[39m\u001b[38;5;241m.\u001b[39m_prepare_proxy(conn)\n\u001b[1;32m    702\u001b[0m \u001b[38;5;66;03m# Make the request on the httplib connection object.\u001b[39;00m\n\u001b[0;32m--> 703\u001b[0m httplib_response \u001b[38;5;241m=\u001b[39m \u001b[38;5;28;43mself\u001b[39;49m\u001b[38;5;241;43m.\u001b[39;49m\u001b[43m_make_request\u001b[49m\u001b[43m(\u001b[49m\n\u001b[1;32m    704\u001b[0m \u001b[43m    \u001b[49m\u001b[43mconn\u001b[49m\u001b[43m,\u001b[49m\n\u001b[1;32m    705\u001b[0m \u001b[43m    \u001b[49m\u001b[43mmethod\u001b[49m\u001b[43m,\u001b[49m\n\u001b[1;32m    706\u001b[0m \u001b[43m    \u001b[49m\u001b[43murl\u001b[49m\u001b[43m,\u001b[49m\n\u001b[1;32m    707\u001b[0m \u001b[43m    \u001b[49m\u001b[43mtimeout\u001b[49m\u001b[38;5;241;43m=\u001b[39;49m\u001b[43mtimeout_obj\u001b[49m\u001b[43m,\u001b[49m\n\u001b[1;32m    708\u001b[0m \u001b[43m    \u001b[49m\u001b[43mbody\u001b[49m\u001b[38;5;241;43m=\u001b[39;49m\u001b[43mbody\u001b[49m\u001b[43m,\u001b[49m\n\u001b[1;32m    709\u001b[0m \u001b[43m    \u001b[49m\u001b[43mheaders\u001b[49m\u001b[38;5;241;43m=\u001b[39;49m\u001b[43mheaders\u001b[49m\u001b[43m,\u001b[49m\n\u001b[1;32m    710\u001b[0m \u001b[43m    \u001b[49m\u001b[43mchunked\u001b[49m\u001b[38;5;241;43m=\u001b[39;49m\u001b[43mchunked\u001b[49m\u001b[43m,\u001b[49m\n\u001b[1;32m    711\u001b[0m \u001b[43m\u001b[49m\u001b[43m)\u001b[49m\n\u001b[1;32m    713\u001b[0m \u001b[38;5;66;03m# If we're going to release the connection in ``finally:``, then\u001b[39;00m\n\u001b[1;32m    714\u001b[0m \u001b[38;5;66;03m# the response doesn't need to know about the connection. Otherwise\u001b[39;00m\n\u001b[1;32m    715\u001b[0m \u001b[38;5;66;03m# it will also try to release it and we'll have a double-release\u001b[39;00m\n\u001b[1;32m    716\u001b[0m \u001b[38;5;66;03m# mess.\u001b[39;00m\n\u001b[1;32m    717\u001b[0m response_conn \u001b[38;5;241m=\u001b[39m conn \u001b[38;5;28;01mif\u001b[39;00m \u001b[38;5;129;01mnot\u001b[39;00m release_conn \u001b[38;5;28;01melse\u001b[39;00m \u001b[38;5;28;01mNone\u001b[39;00m\n",
      "File \u001b[0;32m~/miniconda3/envs/puurrtybot/lib/python3.9/site-packages/urllib3/connectionpool.py:449\u001b[0m, in \u001b[0;36mHTTPConnectionPool._make_request\u001b[0;34m(self, conn, method, url, timeout, chunked, **httplib_request_kw)\u001b[0m\n\u001b[1;32m    444\u001b[0m             httplib_response \u001b[38;5;241m=\u001b[39m conn\u001b[38;5;241m.\u001b[39mgetresponse()\n\u001b[1;32m    445\u001b[0m         \u001b[38;5;28;01mexcept\u001b[39;00m \u001b[38;5;167;01mBaseException\u001b[39;00m \u001b[38;5;28;01mas\u001b[39;00m e:\n\u001b[1;32m    446\u001b[0m             \u001b[38;5;66;03m# Remove the TypeError from the exception chain in\u001b[39;00m\n\u001b[1;32m    447\u001b[0m             \u001b[38;5;66;03m# Python 3 (including for exceptions like SystemExit).\u001b[39;00m\n\u001b[1;32m    448\u001b[0m             \u001b[38;5;66;03m# Otherwise it looks like a bug in the code.\u001b[39;00m\n\u001b[0;32m--> 449\u001b[0m             \u001b[43msix\u001b[49m\u001b[38;5;241;43m.\u001b[39;49m\u001b[43mraise_from\u001b[49m\u001b[43m(\u001b[49m\u001b[43me\u001b[49m\u001b[43m,\u001b[49m\u001b[43m \u001b[49m\u001b[38;5;28;43;01mNone\u001b[39;49;00m\u001b[43m)\u001b[49m\n\u001b[1;32m    450\u001b[0m \u001b[38;5;28;01mexcept\u001b[39;00m (SocketTimeout, BaseSSLError, SocketError) \u001b[38;5;28;01mas\u001b[39;00m e:\n\u001b[1;32m    451\u001b[0m     \u001b[38;5;28mself\u001b[39m\u001b[38;5;241m.\u001b[39m_raise_timeout(err\u001b[38;5;241m=\u001b[39me, url\u001b[38;5;241m=\u001b[39murl, timeout_value\u001b[38;5;241m=\u001b[39mread_timeout)\n",
      "File \u001b[0;32m<string>:3\u001b[0m, in \u001b[0;36mraise_from\u001b[0;34m(value, from_value)\u001b[0m\n",
      "File \u001b[0;32m~/miniconda3/envs/puurrtybot/lib/python3.9/site-packages/urllib3/connectionpool.py:444\u001b[0m, in \u001b[0;36mHTTPConnectionPool._make_request\u001b[0;34m(self, conn, method, url, timeout, chunked, **httplib_request_kw)\u001b[0m\n\u001b[1;32m    441\u001b[0m \u001b[38;5;28;01mexcept\u001b[39;00m \u001b[38;5;167;01mTypeError\u001b[39;00m:\n\u001b[1;32m    442\u001b[0m     \u001b[38;5;66;03m# Python 3\u001b[39;00m\n\u001b[1;32m    443\u001b[0m     \u001b[38;5;28;01mtry\u001b[39;00m:\n\u001b[0;32m--> 444\u001b[0m         httplib_response \u001b[38;5;241m=\u001b[39m \u001b[43mconn\u001b[49m\u001b[38;5;241;43m.\u001b[39;49m\u001b[43mgetresponse\u001b[49m\u001b[43m(\u001b[49m\u001b[43m)\u001b[49m\n\u001b[1;32m    445\u001b[0m     \u001b[38;5;28;01mexcept\u001b[39;00m \u001b[38;5;167;01mBaseException\u001b[39;00m \u001b[38;5;28;01mas\u001b[39;00m e:\n\u001b[1;32m    446\u001b[0m         \u001b[38;5;66;03m# Remove the TypeError from the exception chain in\u001b[39;00m\n\u001b[1;32m    447\u001b[0m         \u001b[38;5;66;03m# Python 3 (including for exceptions like SystemExit).\u001b[39;00m\n\u001b[1;32m    448\u001b[0m         \u001b[38;5;66;03m# Otherwise it looks like a bug in the code.\u001b[39;00m\n\u001b[1;32m    449\u001b[0m         six\u001b[38;5;241m.\u001b[39mraise_from(e, \u001b[38;5;28;01mNone\u001b[39;00m)\n",
      "File \u001b[0;32m~/miniconda3/envs/puurrtybot/lib/python3.9/http/client.py:1377\u001b[0m, in \u001b[0;36mHTTPConnection.getresponse\u001b[0;34m(self)\u001b[0m\n\u001b[1;32m   1375\u001b[0m \u001b[38;5;28;01mtry\u001b[39;00m:\n\u001b[1;32m   1376\u001b[0m     \u001b[38;5;28;01mtry\u001b[39;00m:\n\u001b[0;32m-> 1377\u001b[0m         \u001b[43mresponse\u001b[49m\u001b[38;5;241;43m.\u001b[39;49m\u001b[43mbegin\u001b[49m\u001b[43m(\u001b[49m\u001b[43m)\u001b[49m\n\u001b[1;32m   1378\u001b[0m     \u001b[38;5;28;01mexcept\u001b[39;00m \u001b[38;5;167;01mConnectionError\u001b[39;00m:\n\u001b[1;32m   1379\u001b[0m         \u001b[38;5;28mself\u001b[39m\u001b[38;5;241m.\u001b[39mclose()\n",
      "File \u001b[0;32m~/miniconda3/envs/puurrtybot/lib/python3.9/http/client.py:320\u001b[0m, in \u001b[0;36mHTTPResponse.begin\u001b[0;34m(self)\u001b[0m\n\u001b[1;32m    318\u001b[0m \u001b[38;5;66;03m# read until we get a non-100 response\u001b[39;00m\n\u001b[1;32m    319\u001b[0m \u001b[38;5;28;01mwhile\u001b[39;00m \u001b[38;5;28;01mTrue\u001b[39;00m:\n\u001b[0;32m--> 320\u001b[0m     version, status, reason \u001b[38;5;241m=\u001b[39m \u001b[38;5;28;43mself\u001b[39;49m\u001b[38;5;241;43m.\u001b[39;49m\u001b[43m_read_status\u001b[49m\u001b[43m(\u001b[49m\u001b[43m)\u001b[49m\n\u001b[1;32m    321\u001b[0m     \u001b[38;5;28;01mif\u001b[39;00m status \u001b[38;5;241m!=\u001b[39m CONTINUE:\n\u001b[1;32m    322\u001b[0m         \u001b[38;5;28;01mbreak\u001b[39;00m\n",
      "File \u001b[0;32m~/miniconda3/envs/puurrtybot/lib/python3.9/http/client.py:281\u001b[0m, in \u001b[0;36mHTTPResponse._read_status\u001b[0;34m(self)\u001b[0m\n\u001b[1;32m    280\u001b[0m \u001b[38;5;28;01mdef\u001b[39;00m \u001b[38;5;21m_read_status\u001b[39m(\u001b[38;5;28mself\u001b[39m):\n\u001b[0;32m--> 281\u001b[0m     line \u001b[38;5;241m=\u001b[39m \u001b[38;5;28mstr\u001b[39m(\u001b[38;5;28;43mself\u001b[39;49m\u001b[38;5;241;43m.\u001b[39;49m\u001b[43mfp\u001b[49m\u001b[38;5;241;43m.\u001b[39;49m\u001b[43mreadline\u001b[49m\u001b[43m(\u001b[49m\u001b[43m_MAXLINE\u001b[49m\u001b[43m \u001b[49m\u001b[38;5;241;43m+\u001b[39;49m\u001b[43m \u001b[49m\u001b[38;5;241;43m1\u001b[39;49m\u001b[43m)\u001b[49m, \u001b[38;5;124m\"\u001b[39m\u001b[38;5;124miso-8859-1\u001b[39m\u001b[38;5;124m\"\u001b[39m)\n\u001b[1;32m    282\u001b[0m     \u001b[38;5;28;01mif\u001b[39;00m \u001b[38;5;28mlen\u001b[39m(line) \u001b[38;5;241m>\u001b[39m _MAXLINE:\n\u001b[1;32m    283\u001b[0m         \u001b[38;5;28;01mraise\u001b[39;00m LineTooLong(\u001b[38;5;124m\"\u001b[39m\u001b[38;5;124mstatus line\u001b[39m\u001b[38;5;124m\"\u001b[39m)\n",
      "File \u001b[0;32m~/miniconda3/envs/puurrtybot/lib/python3.9/socket.py:704\u001b[0m, in \u001b[0;36mSocketIO.readinto\u001b[0;34m(self, b)\u001b[0m\n\u001b[1;32m    702\u001b[0m \u001b[38;5;28;01mwhile\u001b[39;00m \u001b[38;5;28;01mTrue\u001b[39;00m:\n\u001b[1;32m    703\u001b[0m     \u001b[38;5;28;01mtry\u001b[39;00m:\n\u001b[0;32m--> 704\u001b[0m         \u001b[38;5;28;01mreturn\u001b[39;00m \u001b[38;5;28;43mself\u001b[39;49m\u001b[38;5;241;43m.\u001b[39;49m\u001b[43m_sock\u001b[49m\u001b[38;5;241;43m.\u001b[39;49m\u001b[43mrecv_into\u001b[49m\u001b[43m(\u001b[49m\u001b[43mb\u001b[49m\u001b[43m)\u001b[49m\n\u001b[1;32m    705\u001b[0m     \u001b[38;5;28;01mexcept\u001b[39;00m timeout:\n\u001b[1;32m    706\u001b[0m         \u001b[38;5;28mself\u001b[39m\u001b[38;5;241m.\u001b[39m_timeout_occurred \u001b[38;5;241m=\u001b[39m \u001b[38;5;28;01mTrue\u001b[39;00m\n",
      "File \u001b[0;32m~/miniconda3/envs/puurrtybot/lib/python3.9/ssl.py:1241\u001b[0m, in \u001b[0;36mSSLSocket.recv_into\u001b[0;34m(self, buffer, nbytes, flags)\u001b[0m\n\u001b[1;32m   1237\u001b[0m     \u001b[38;5;28;01mif\u001b[39;00m flags \u001b[38;5;241m!=\u001b[39m \u001b[38;5;241m0\u001b[39m:\n\u001b[1;32m   1238\u001b[0m         \u001b[38;5;28;01mraise\u001b[39;00m \u001b[38;5;167;01mValueError\u001b[39;00m(\n\u001b[1;32m   1239\u001b[0m           \u001b[38;5;124m\"\u001b[39m\u001b[38;5;124mnon-zero flags not allowed in calls to recv_into() on \u001b[39m\u001b[38;5;132;01m%s\u001b[39;00m\u001b[38;5;124m\"\u001b[39m \u001b[38;5;241m%\u001b[39m\n\u001b[1;32m   1240\u001b[0m           \u001b[38;5;28mself\u001b[39m\u001b[38;5;241m.\u001b[39m\u001b[38;5;18m__class__\u001b[39m)\n\u001b[0;32m-> 1241\u001b[0m     \u001b[38;5;28;01mreturn\u001b[39;00m \u001b[38;5;28;43mself\u001b[39;49m\u001b[38;5;241;43m.\u001b[39;49m\u001b[43mread\u001b[49m\u001b[43m(\u001b[49m\u001b[43mnbytes\u001b[49m\u001b[43m,\u001b[49m\u001b[43m \u001b[49m\u001b[43mbuffer\u001b[49m\u001b[43m)\u001b[49m\n\u001b[1;32m   1242\u001b[0m \u001b[38;5;28;01melse\u001b[39;00m:\n\u001b[1;32m   1243\u001b[0m     \u001b[38;5;28;01mreturn\u001b[39;00m \u001b[38;5;28msuper\u001b[39m()\u001b[38;5;241m.\u001b[39mrecv_into(buffer, nbytes, flags)\n",
      "File \u001b[0;32m~/miniconda3/envs/puurrtybot/lib/python3.9/ssl.py:1099\u001b[0m, in \u001b[0;36mSSLSocket.read\u001b[0;34m(self, len, buffer)\u001b[0m\n\u001b[1;32m   1097\u001b[0m \u001b[38;5;28;01mtry\u001b[39;00m:\n\u001b[1;32m   1098\u001b[0m     \u001b[38;5;28;01mif\u001b[39;00m buffer \u001b[38;5;129;01mis\u001b[39;00m \u001b[38;5;129;01mnot\u001b[39;00m \u001b[38;5;28;01mNone\u001b[39;00m:\n\u001b[0;32m-> 1099\u001b[0m         \u001b[38;5;28;01mreturn\u001b[39;00m \u001b[38;5;28;43mself\u001b[39;49m\u001b[38;5;241;43m.\u001b[39;49m\u001b[43m_sslobj\u001b[49m\u001b[38;5;241;43m.\u001b[39;49m\u001b[43mread\u001b[49m\u001b[43m(\u001b[49m\u001b[38;5;28;43mlen\u001b[39;49m\u001b[43m,\u001b[49m\u001b[43m \u001b[49m\u001b[43mbuffer\u001b[49m\u001b[43m)\u001b[49m\n\u001b[1;32m   1100\u001b[0m     \u001b[38;5;28;01melse\u001b[39;00m:\n\u001b[1;32m   1101\u001b[0m         \u001b[38;5;28;01mreturn\u001b[39;00m \u001b[38;5;28mself\u001b[39m\u001b[38;5;241m.\u001b[39m_sslobj\u001b[38;5;241m.\u001b[39mread(\u001b[38;5;28mlen\u001b[39m)\n",
      "\u001b[0;31mKeyboardInterrupt\u001b[0m: "
     ]
    }
   ],
   "source": [
    "import puurrtybot.blockchain.blockchain_queries as bq\n",
    "address = \"addr1qyqggc5f3dgyx6ulwl4uqf8gucxvdahgpatjx27hutsusg79nee6glazchetycv3uewpraf7tfe60t3kud5l0cdkl5wqyj5xhy\"\n",
    "\n",
    "for tx in bq.get_tx_list_by_address(address):\n",
    "    print(tx['tx_hash'],bq.get_quantities_by_tx_hash(tx_hash=tx['tx_hash'], address=address))\n",
    "    \n",
    "    "
   ]
  },
  {
   "cell_type": "code",
   "execution_count": 5,
   "id": "72f1f8a4",
   "metadata": {},
   "outputs": [
    {
     "data": {
      "text/plain": [
       "'678ed21b46f87b197125c86d47864697a8dec6f888b55df22cf8f6c7ac552c43'"
      ]
     },
     "execution_count": 5,
     "metadata": {},
     "output_type": "execute_result"
    }
   ],
   "source": [
    "tx['tx_hash']"
   ]
  },
  {
   "cell_type": "code",
   "execution_count": 10,
   "id": "72c7b502",
   "metadata": {},
   "outputs": [],
   "source": [
    "a = [asset for asset in assets if 'f96584c4fcd13cd1702c9be683400072dd1aac853431c99037a3ab1e50757272426f74'==asset['asset']][0]"
   ]
  },
  {
   "cell_type": "code",
   "execution_count": 13,
   "id": "d52aefd3",
   "metadata": {},
   "outputs": [
    {
     "data": {
      "text/plain": [
       "{'asset': 'f96584c4fcd13cd1702c9be683400072dd1aac853431c99037a3ab1e50757272426f74',\n",
       " 'policy_id': 'f96584c4fcd13cd1702c9be683400072dd1aac853431c99037a3ab1e',\n",
       " 'asset_name': '50757272426f74',\n",
       " 'fingerprint': 'asset12xf688slvfmtspjgnsq33wjjfp67egfy7yhwjw',\n",
       " 'quantity': '1',\n",
       " 'initial_mint_tx_hash': 'c3e4b98a8decfa2e6c7a56fec5d1f201ad59e80462c590e5cc81ebce4a5d6c6c',\n",
       " 'mint_or_burn_count': 3,\n",
       " 'onchain_metadata': {'name': 'PurrBot',\n",
       "  'image': 'ipfs://QmXdUjTyPEvPAnRk5Nc1TCje7JhLvrx1F45U3oS2YLWQ74',\n",
       "  'unique': 'Yes',\n",
       "  'mediaType': 'image/png',\n",
       "  'collection': 'Puurrty Cats Society'},\n",
       " 'metadata': None}"
      ]
     },
     "execution_count": 13,
     "metadata": {},
     "output_type": "execute_result"
    }
   ],
   "source": [
    "for asset in tqdm.tqdm(blockfrost.get_assets_by_policy(puurrtybot.POLICY)):\n",
    "    asset = blockfrost.get_meta_by_asset(asset)\n",
    "    with open(f\"\"\"{puurrtybot.PATH}/puurrtybot/databases/assets/{asset['asset']}.json\"\"\", 'w') as f:\n",
    "        json.dump(asset, f)"
   ]
  },
  {
   "cell_type": "code",
   "execution_count": 15,
   "id": "a4e128f1",
   "metadata": {},
   "outputs": [
    {
     "data": {
      "text/plain": [
       "'f96584c4fcd13cd1702c9be683400072dd1aac853431c99037a3ab1e50757272426f74.json'"
      ]
     },
     "execution_count": 15,
     "metadata": {},
     "output_type": "execute_result"
    }
   ],
   "source": [
    "f\"\"\"{a['asset']}.json\"\"\""
   ]
  },
  {
   "cell_type": "code",
   "execution_count": 16,
   "id": "8c1e89bb",
   "metadata": {},
   "outputs": [],
   "source": [
    "import json\n",
    "with open(f\"\"\"{a['asset']}.json\"\"\", 'w') as f:\n",
    "    json.dump(a, f)"
   ]
  }
 ],
 "metadata": {
  "kernelspec": {
   "display_name": "Python [conda env:puurrtybot] *",
   "language": "python",
   "name": "conda-env-puurrtybot-py"
  },
  "language_info": {
   "codemirror_mode": {
    "name": "ipython",
    "version": 3
   },
   "file_extension": ".py",
   "mimetype": "text/x-python",
   "name": "python",
   "nbconvert_exporter": "python",
   "pygments_lexer": "ipython3",
   "version": "3.9.12"
  }
 },
 "nbformat": 4,
 "nbformat_minor": 5
}
